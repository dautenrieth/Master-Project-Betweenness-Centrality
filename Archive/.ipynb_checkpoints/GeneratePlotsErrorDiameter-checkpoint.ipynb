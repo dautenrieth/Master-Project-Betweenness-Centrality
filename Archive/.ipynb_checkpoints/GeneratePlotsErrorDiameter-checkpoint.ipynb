{
 "cells": [
  {
   "cell_type": "code",
   "execution_count": null,
   "id": "6b29b32b",
   "metadata": {},
   "outputs": [],
   "source": [
    "# Imports\n",
    "import networkx as nx\n",
    "from typing import List, Optional, Tuple, Dict\n",
    "import matplotlib.pyplot as plt\n",
    "import IO\n",
    "from pathlib import Path\n",
    "import numpy as np\n",
    "from os import listdir\n",
    "from os.path import isfile, join"
   ]
  },
  {
   "cell_type": "code",
   "execution_count": null,
   "id": "ccb8e697",
   "metadata": {},
   "outputs": [],
   "source": [
    "methods = [\"Abra\", \"DIAM\", \"RAND2\"]\n",
    "error_path = \"C:\\\\Users\\\\Daniel\\\\Desktop\\\\Master Project\\\\Graphs Generated\\\\Errors\"\n",
    "output_path = \"C:\\\\Users\\\\Daniel\\\\Desktop\\\\Master Project\\\\Graphs Generated\\\\Plots\\\\Diameter\""
   ]
  },
  {
   "cell_type": "code",
   "execution_count": null,
   "id": "e990c6d5",
   "metadata": {},
   "outputs": [],
   "source": [
    "def calculateAverageError(file: str) -> float:\n",
    "    error = IO.file_to_dict(f\"{error_path}\\\\{file}\")\n",
    "    return sum([abs(val) for val in error.values()])/len(error)"
   ]
  },
  {
   "cell_type": "code",
   "execution_count": null,
   "id": "f16de31b",
   "metadata": {},
   "outputs": [],
   "source": [
    "def get_values():\n",
    "    error_files = [f for f in listdir(error_path) if isfile(join(error_path, f))]\n",
    "\n",
    "    ER_one_diameter = [ [] for _ in range(len(methods)) ]\n",
    "    ER_one_error = [ [] for _ in range(len(methods)) ]\n",
    "    ER_two_diameter = [ [] for _ in range(len(methods)) ]\n",
    "    ER_two_error = [ [] for _ in range(len(methods)) ]\n",
    "    BA_one_diameter = [ [] for _ in range(len(methods)) ]\n",
    "    BA_one_error = [ [] for _ in range(len(methods)) ]\n",
    "    BA_two_diameter = [ [] for _ in range(len(methods)) ]\n",
    "    BA_two_error = [ [] for _ in range(len(methods)) ]\n",
    "    for file in error_files:\n",
    "        split_string = file.split(\"_\", 6)\n",
    "        print(split_string)\n",
    "        if split_string[1] == \"ER\":\n",
    "            if split_string[2] == '1000':\n",
    "                ER_one_diameter[methods.index(split_string[5].split(\".\", 1)[0])].append(int(split_string[3]))\n",
    "                ER_one_error[methods.index(split_string[5].split(\".\", 1)[0])].append(calculateAverageError(file))\n",
    "            else:\n",
    "                ER_two_diameter[methods.index(split_string[5].split(\".\", 1)[0])].append(int(split_string[3]))\n",
    "                ER_two_error[methods.index(split_string[5].split(\".\", 1)[0])].append(calculateAverageError(file))\n",
    "\n",
    "        elif split_string[1] == \"BA\":\n",
    "            if split_string[2] == '1000':\n",
    "                BA_one_diameter[methods.index(split_string[5].split(\".\", 1)[0])].append(int(split_string[3]))\n",
    "                BA_one_error[methods.index(split_string[5].split(\".\", 1)[0])].append(calculateAverageError(file))\n",
    "            else:\n",
    "                BA_two_diameter[methods.index(split_string[5].split(\".\", 1)[0])].append(int(split_string[3]))\n",
    "                BA_two_error[methods.index(split_string[5].split(\".\", 1)[0])].append(calculateAverageError(file))\n",
    "        else:\n",
    "            print(f'{split_string[1]} is not a known graph type')\n",
    "    return ER_one_diameter, ER_one_error, ER_two_diameter, ER_two_error, BA_one_diameter, BA_one_error, BA_two_diameter, BA_two_error\n",
    "\n"
   ]
  },
  {
   "cell_type": "code",
   "execution_count": null,
   "id": "9d3b9f3c",
   "metadata": {},
   "outputs": [],
   "source": [
    "ER_one_diameter, ER_one_error, ER_two_diameter, ER_two_error, BA_one_diameter, BA_one_error, BA_two_diameter, BA_two_error = get_values()\n",
    "\n",
    "plt.title('Erdos Renyi Graph 1000 Nodes')\n",
    "plt.plot(ER_one_diameter[0], ER_one_error[0], label=f'{methods[0]}')\n",
    "plt.plot(ER_one_diameter[1], ER_one_error[1], label=f'{methods[1]}')\n",
    "plt.plot(ER_one_diameter[2], ER_one_error[2], label=f'{methods[2]}')\n",
    "plt.legend()\n",
    "plt.xlabel('Diameter')\n",
    "plt.ylabel('Average Error')\n",
    "plt.savefig(f'Plots\\\\Diameter\\\\Diameter-Error_1000.png')\n",
    "plt.show()\n",
    "plt.clf()\n",
    "\n",
    "plt.title('Erdos Renyi Graph 2000 Nodes')\n",
    "plt.plot(ER_two_diameter[0], ER_two_error[0], label=f'{methods[0]}')\n",
    "plt.plot(ER_two_diameter[1], ER_two_error[1], label=f'{methods[1]}')\n",
    "plt.plot(ER_two_diameter[2], ER_two_error[2], label=f'{methods[2]}')\n",
    "plt.legend()\n",
    "plt.xlabel('Diameter')\n",
    "plt.ylabel('Average Error')\n",
    "plt.savefig(f'Plots\\\\Diameter\\\\Diameter-Error_200.png')\n",
    "plt.show()\n",
    "plt.clf()"
   ]
  },
  {
   "cell_type": "code",
   "execution_count": null,
   "id": "dcc03493",
   "metadata": {},
   "outputs": [],
   "source": []
  },
  {
   "cell_type": "code",
   "execution_count": null,
   "id": "83b40ca3",
   "metadata": {},
   "outputs": [],
   "source": []
  }
 ],
 "metadata": {
  "kernelspec": {
   "display_name": "Python 3 (ipykernel)",
   "language": "python",
   "name": "python3"
  },
  "language_info": {
   "codemirror_mode": {
    "name": "ipython",
    "version": 3
   },
   "file_extension": ".py",
   "mimetype": "text/x-python",
   "name": "python",
   "nbconvert_exporter": "python",
   "pygments_lexer": "ipython3",
   "version": "3.7.7"
  },
  "varInspector": {
   "cols": {
    "lenName": 16,
    "lenType": 16,
    "lenVar": 40
   },
   "kernels_config": {
    "python": {
     "delete_cmd_postfix": "",
     "delete_cmd_prefix": "del ",
     "library": "var_list.py",
     "varRefreshCmd": "print(var_dic_list())"
    },
    "r": {
     "delete_cmd_postfix": ") ",
     "delete_cmd_prefix": "rm(",
     "library": "var_list.r",
     "varRefreshCmd": "cat(var_dic_list()) "
    }
   },
   "position": {
    "height": "361.844px",
    "left": "1580px",
    "right": "20px",
    "top": "120px",
    "width": "320px"
   },
   "types_to_exclude": [
    "module",
    "function",
    "builtin_function_or_method",
    "instance",
    "_Feature"
   ],
   "window_display": false
  }
 },
 "nbformat": 4,
 "nbformat_minor": 5
}
