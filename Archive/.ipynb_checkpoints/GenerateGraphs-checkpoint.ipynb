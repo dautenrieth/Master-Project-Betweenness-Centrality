{
 "cells": [
  {
   "cell_type": "code",
   "execution_count": null,
   "id": "1e1f1dcf",
   "metadata": {},
   "outputs": [],
   "source": [
    "import numpy as np\n",
    "import networkx as nx\n",
    "from matplotlib import pyplot as plt"
   ]
  },
  {
   "cell_type": "code",
   "execution_count": null,
   "id": "5d4d0cec",
   "metadata": {},
   "outputs": [],
   "source": [
    "# Generate different Erdos Renyi graphs\n",
    "for run in range(1, 21, 1):\n",
    "    for n in range(1000, 2001, 1000):\n",
    "        for pp in range(1, 101, 1):\n",
    "            p = pp/n\n",
    "            G = nx.erdos_renyi_graph(n, p, seed=None, directed=False)\n",
    "            largest_cc = max(nx.connected_components(G), key=len)\n",
    "            S = G.subgraph(largest_cc)\n",
    "            ad = sum([val for (node,val) in S.degree()])/S.number_of_nodes()\n",
    "            dia = nx.diameter(S)\n",
    "            nn = S.number_of_nodes()\n",
    "            nx.write_edgelist(G, f\"C:\\\\Users\\\\Daniel\\\\Desktop\\\\Master Project\\\\Graphs Generated\\\\ER_{n}_{dia}_{ad:.2f}_{run}.edgelist\", data=False)\n",
    "    print(f'run: {run}', end=\"\\r\")"
   ]
  },
  {
   "cell_type": "code",
   "execution_count": null,
   "id": "1fe45708",
   "metadata": {},
   "outputs": [],
   "source": [
    "# Generate different Barabasi Albert Graphs\n",
    "for run in range(1, 21, 1):\n",
    "    for n in range(1000, 2001, 1000):\n",
    "        for edges in range(1, 100, 1):\n",
    "\n",
    "            G = nx.barabasi_albert_graph(n, edges, seed=None)\n",
    "            largest_cc = max(nx.connected_components(G), key=len)\n",
    "            S = G.subgraph(largest_cc)\n",
    "            ad = sum([val for (node,val) in S.degree()])/S.number_of_nodes()\n",
    "            dia = nx.diameter(S)\n",
    "            nn = S.number_of_nodes()\n",
    "            nx.write_edgelist(G, f\"C:\\\\Users\\\\Daniel\\\\Desktop\\\\Master Project\\\\Graphs Generated\\\\BA_{n}_{dia}_{ad:.2f}_{run}.edgelist\", data=False)\n",
    "    print(f'run: {run}', end=\"\\r\")"
   ]
  },
  {
   "cell_type": "code",
   "execution_count": null,
   "id": "7dc8e66d",
   "metadata": {},
   "outputs": [],
   "source": []
  }
 ],
 "metadata": {
  "kernelspec": {
   "display_name": "Python 3 (ipykernel)",
   "language": "python",
   "name": "python3"
  },
  "language_info": {
   "codemirror_mode": {
    "name": "ipython",
    "version": 3
   },
   "file_extension": ".py",
   "mimetype": "text/x-python",
   "name": "python",
   "nbconvert_exporter": "python",
   "pygments_lexer": "ipython3",
   "version": "3.7.7"
  },
  "varInspector": {
   "cols": {
    "lenName": 16,
    "lenType": 16,
    "lenVar": 40
   },
   "kernels_config": {
    "python": {
     "delete_cmd_postfix": "",
     "delete_cmd_prefix": "del ",
     "library": "var_list.py",
     "varRefreshCmd": "print(var_dic_list())"
    },
    "r": {
     "delete_cmd_postfix": ") ",
     "delete_cmd_prefix": "rm(",
     "library": "var_list.r",
     "varRefreshCmd": "cat(var_dic_list()) "
    }
   },
   "types_to_exclude": [
    "module",
    "function",
    "builtin_function_or_method",
    "instance",
    "_Feature"
   ],
   "window_display": false
  }
 },
 "nbformat": 4,
 "nbformat_minor": 5
}
