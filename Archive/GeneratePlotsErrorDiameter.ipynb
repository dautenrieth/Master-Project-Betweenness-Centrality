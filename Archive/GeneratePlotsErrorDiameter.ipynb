{
 "cells": [
  {
   "cell_type": "code",
   "execution_count": 1,
   "id": "6b29b32b",
   "metadata": {},
   "outputs": [],
   "source": [
    "# Imports\n",
    "import networkx as nx\n",
    "from typing import List, Optional, Tuple, Dict\n",
    "import matplotlib.pyplot as plt\n",
    "import IO\n",
    "from pathlib import Path\n",
    "import numpy as np\n",
    "from os import listdir\n",
    "from os.path import isfile, join"
   ]
  },
  {
   "cell_type": "code",
   "execution_count": 2,
   "id": "ccb8e697",
   "metadata": {},
   "outputs": [],
   "source": [
    "methods = [\"Abra\", \"DIAM\", \"RAND2\"]\n",
    "error_path = \"C:\\\\Users\\\\Daniel\\\\Desktop\\\\Master Project\\\\Graphs Generated\\\\Errors\"\n",
    "output_path = \"C:\\\\Users\\\\Daniel\\\\Desktop\\\\Master Project\\\\Graphs Generated\\\\Plots\\\\Diameter\""
   ]
  },
  {
   "cell_type": "code",
   "execution_count": 3,
   "id": "e990c6d5",
   "metadata": {},
   "outputs": [],
   "source": [
    "def calculateAverageError(file: str) -> float:\n",
    "    error = IO.file_to_dict(f\"{error_path}\\\\{file}\")\n",
    "    return sum([abs(val) for val in error.values()])/len(error)"
   ]
  },
  {
   "cell_type": "code",
   "execution_count": 4,
   "id": "f16de31b",
   "metadata": {},
   "outputs": [],
   "source": [
    "def get_values():\n",
    "    error_files = [f for f in listdir(error_path) if isfile(join(error_path, f))]\n",
    "\n",
    "    ER_one_diameter = [ [] for _ in range(len(methods)) ]\n",
    "    ER_one_error = [ [] for _ in range(len(methods)) ]\n",
    "    ER_two_diameter = [ [] for _ in range(len(methods)) ]\n",
    "    ER_two_error = [ [] for _ in range(len(methods)) ]\n",
    "    BA_one_diameter = [ [] for _ in range(len(methods)) ]\n",
    "    BA_one_error = [ [] for _ in range(len(methods)) ]\n",
    "    BA_two_diameter = [ [] for _ in range(len(methods)) ]\n",
    "    BA_two_error = [ [] for _ in range(len(methods)) ]\n",
    "    for file in error_files:\n",
    "        split_string = file.split(\"_\", 6)\n",
    "        print(split_string)\n",
    "        if split_string[1] == \"ER\":\n",
    "            if split_string[2] == '1000':\n",
    "                ER_one_diameter[methods.index(split_string[5].split(\".\", 1)[0])].append(int(split_string[3]))\n",
    "                ER_one_error[methods.index(split_string[5].split(\".\", 1)[0])].append(calculateAverageError(file))\n",
    "            else:\n",
    "                ER_two_diameter[methods.index(split_string[5].split(\".\", 1)[0])].append(int(split_string[3]))\n",
    "                ER_two_error[methods.index(split_string[5].split(\".\", 1)[0])].append(calculateAverageError(file))\n",
    "\n",
    "        elif split_string[1] == \"BA\":\n",
    "            if split_string[2] == '1000':\n",
    "                BA_one_diameter[methods.index(split_string[5].split(\".\", 1)[0])].append(int(split_string[3]))\n",
    "                BA_one_error[methods.index(split_string[5].split(\".\", 1)[0])].append(calculateAverageError(file))\n",
    "            else:\n",
    "                BA_two_diameter[methods.index(split_string[5].split(\".\", 1)[0])].append(int(split_string[3]))\n",
    "                BA_two_error[methods.index(split_string[5].split(\".\", 1)[0])].append(calculateAverageError(file))\n",
    "        else:\n",
    "            print(f'{split_string[1]} is not a known graph type')\n",
    "    return ER_one_diameter, ER_one_error, ER_two_diameter, ER_two_error, BA_one_diameter, BA_one_error, BA_two_diameter, BA_two_error\n",
    "\n"
   ]
  },
  {
   "cell_type": "code",
   "execution_count": 5,
   "id": "9d3b9f3c",
   "metadata": {},
   "outputs": [
    {
     "ename": "FileNotFoundError",
     "evalue": "[WinError 3] Das System kann den angegebenen Pfad nicht finden: 'C:\\\\Users\\\\Daniel\\\\Desktop\\\\Master Project\\\\Graphs Generated\\\\Errors'",
     "output_type": "error",
     "traceback": [
      "\u001b[1;31m---------------------------------------------------------------------------\u001b[0m",
      "\u001b[1;31mFileNotFoundError\u001b[0m                         Traceback (most recent call last)",
      "\u001b[1;32m~\\AppData\\Local\\Temp\\ipykernel_11060\\665200159.py\u001b[0m in \u001b[0;36m<module>\u001b[1;34m\u001b[0m\n\u001b[1;32m----> 1\u001b[1;33m \u001b[0mER_one_diameter\u001b[0m\u001b[1;33m,\u001b[0m \u001b[0mER_one_error\u001b[0m\u001b[1;33m,\u001b[0m \u001b[0mER_two_diameter\u001b[0m\u001b[1;33m,\u001b[0m \u001b[0mER_two_error\u001b[0m\u001b[1;33m,\u001b[0m \u001b[0mBA_one_diameter\u001b[0m\u001b[1;33m,\u001b[0m \u001b[0mBA_one_error\u001b[0m\u001b[1;33m,\u001b[0m \u001b[0mBA_two_diameter\u001b[0m\u001b[1;33m,\u001b[0m \u001b[0mBA_two_error\u001b[0m \u001b[1;33m=\u001b[0m \u001b[0mget_values\u001b[0m\u001b[1;33m(\u001b[0m\u001b[1;33m)\u001b[0m\u001b[1;33m\u001b[0m\u001b[1;33m\u001b[0m\u001b[0m\n\u001b[0m\u001b[0;32m      2\u001b[0m \u001b[1;33m\u001b[0m\u001b[0m\n\u001b[0;32m      3\u001b[0m \u001b[0mplt\u001b[0m\u001b[1;33m.\u001b[0m\u001b[0mtitle\u001b[0m\u001b[1;33m(\u001b[0m\u001b[1;34m'Erdos Renyi Graph 1000 Nodes'\u001b[0m\u001b[1;33m)\u001b[0m\u001b[1;33m\u001b[0m\u001b[1;33m\u001b[0m\u001b[0m\n\u001b[0;32m      4\u001b[0m \u001b[0mplt\u001b[0m\u001b[1;33m.\u001b[0m\u001b[0mplot\u001b[0m\u001b[1;33m(\u001b[0m\u001b[0mER_one_diameter\u001b[0m\u001b[1;33m[\u001b[0m\u001b[1;36m0\u001b[0m\u001b[1;33m]\u001b[0m\u001b[1;33m,\u001b[0m \u001b[0mER_one_error\u001b[0m\u001b[1;33m[\u001b[0m\u001b[1;36m0\u001b[0m\u001b[1;33m]\u001b[0m\u001b[1;33m,\u001b[0m \u001b[0mlabel\u001b[0m\u001b[1;33m=\u001b[0m\u001b[1;34mf'{methods[0]}'\u001b[0m\u001b[1;33m)\u001b[0m\u001b[1;33m\u001b[0m\u001b[1;33m\u001b[0m\u001b[0m\n\u001b[0;32m      5\u001b[0m \u001b[0mplt\u001b[0m\u001b[1;33m.\u001b[0m\u001b[0mplot\u001b[0m\u001b[1;33m(\u001b[0m\u001b[0mER_one_diameter\u001b[0m\u001b[1;33m[\u001b[0m\u001b[1;36m1\u001b[0m\u001b[1;33m]\u001b[0m\u001b[1;33m,\u001b[0m \u001b[0mER_one_error\u001b[0m\u001b[1;33m[\u001b[0m\u001b[1;36m1\u001b[0m\u001b[1;33m]\u001b[0m\u001b[1;33m,\u001b[0m \u001b[0mlabel\u001b[0m\u001b[1;33m=\u001b[0m\u001b[1;34mf'{methods[1]}'\u001b[0m\u001b[1;33m)\u001b[0m\u001b[1;33m\u001b[0m\u001b[1;33m\u001b[0m\u001b[0m\n",
      "\u001b[1;32m~\\AppData\\Local\\Temp\\ipykernel_11060\\633961716.py\u001b[0m in \u001b[0;36mget_values\u001b[1;34m()\u001b[0m\n\u001b[0;32m      1\u001b[0m \u001b[1;32mdef\u001b[0m \u001b[0mget_values\u001b[0m\u001b[1;33m(\u001b[0m\u001b[1;33m)\u001b[0m\u001b[1;33m:\u001b[0m\u001b[1;33m\u001b[0m\u001b[1;33m\u001b[0m\u001b[0m\n\u001b[1;32m----> 2\u001b[1;33m     \u001b[0merror_files\u001b[0m \u001b[1;33m=\u001b[0m \u001b[1;33m[\u001b[0m\u001b[0mf\u001b[0m \u001b[1;32mfor\u001b[0m \u001b[0mf\u001b[0m \u001b[1;32min\u001b[0m \u001b[0mlistdir\u001b[0m\u001b[1;33m(\u001b[0m\u001b[0merror_path\u001b[0m\u001b[1;33m)\u001b[0m \u001b[1;32mif\u001b[0m \u001b[0misfile\u001b[0m\u001b[1;33m(\u001b[0m\u001b[0mjoin\u001b[0m\u001b[1;33m(\u001b[0m\u001b[0merror_path\u001b[0m\u001b[1;33m,\u001b[0m \u001b[0mf\u001b[0m\u001b[1;33m)\u001b[0m\u001b[1;33m)\u001b[0m\u001b[1;33m]\u001b[0m\u001b[1;33m\u001b[0m\u001b[1;33m\u001b[0m\u001b[0m\n\u001b[0m\u001b[0;32m      3\u001b[0m \u001b[1;33m\u001b[0m\u001b[0m\n\u001b[0;32m      4\u001b[0m     \u001b[0mER_one_diameter\u001b[0m \u001b[1;33m=\u001b[0m \u001b[1;33m[\u001b[0m \u001b[1;33m[\u001b[0m\u001b[1;33m]\u001b[0m \u001b[1;32mfor\u001b[0m \u001b[0m_\u001b[0m \u001b[1;32min\u001b[0m \u001b[0mrange\u001b[0m\u001b[1;33m(\u001b[0m\u001b[0mlen\u001b[0m\u001b[1;33m(\u001b[0m\u001b[0mmethods\u001b[0m\u001b[1;33m)\u001b[0m\u001b[1;33m)\u001b[0m \u001b[1;33m]\u001b[0m\u001b[1;33m\u001b[0m\u001b[1;33m\u001b[0m\u001b[0m\n\u001b[0;32m      5\u001b[0m     \u001b[0mER_one_error\u001b[0m \u001b[1;33m=\u001b[0m \u001b[1;33m[\u001b[0m \u001b[1;33m[\u001b[0m\u001b[1;33m]\u001b[0m \u001b[1;32mfor\u001b[0m \u001b[0m_\u001b[0m \u001b[1;32min\u001b[0m \u001b[0mrange\u001b[0m\u001b[1;33m(\u001b[0m\u001b[0mlen\u001b[0m\u001b[1;33m(\u001b[0m\u001b[0mmethods\u001b[0m\u001b[1;33m)\u001b[0m\u001b[1;33m)\u001b[0m \u001b[1;33m]\u001b[0m\u001b[1;33m\u001b[0m\u001b[1;33m\u001b[0m\u001b[0m\n",
      "\u001b[1;31mFileNotFoundError\u001b[0m: [WinError 3] Das System kann den angegebenen Pfad nicht finden: 'C:\\\\Users\\\\Daniel\\\\Desktop\\\\Master Project\\\\Graphs Generated\\\\Errors'"
     ]
    }
   ],
   "source": [
    "ER_one_diameter, ER_one_error, ER_two_diameter, ER_two_error, BA_one_diameter, BA_one_error, BA_two_diameter, BA_two_error = get_values()\n",
    "\n",
    "plt.title('Erdos Renyi Graph 1000 Nodes')\n",
    "plt.plot(ER_one_diameter[0], ER_one_error[0], label=f'{methods[0]}')\n",
    "plt.plot(ER_one_diameter[1], ER_one_error[1], label=f'{methods[1]}')\n",
    "plt.plot(ER_one_diameter[2], ER_one_error[2], label=f'{methods[2]}')\n",
    "plt.legend()\n",
    "plt.xlabel('Diameter')\n",
    "plt.ylabel('Average Error')\n",
    "plt.savefig(f'Plots\\\\Diameter\\\\Diameter-Error_1000.png')\n",
    "plt.show()\n",
    "plt.clf()\n",
    "\n",
    "plt.title('Erdos Renyi Graph 2000 Nodes')\n",
    "plt.plot(ER_two_diameter[0], ER_two_error[0], label=f'{methods[0]}')\n",
    "plt.plot(ER_two_diameter[1], ER_two_error[1], label=f'{methods[1]}')\n",
    "plt.plot(ER_two_diameter[2], ER_two_error[2], label=f'{methods[2]}')\n",
    "plt.legend()\n",
    "plt.xlabel('Diameter')\n",
    "plt.ylabel('Average Error')\n",
    "plt.savefig(f'Plots\\\\Diameter\\\\Diameter-Error_200.png')\n",
    "plt.show()\n",
    "plt.clf()"
   ]
  },
  {
   "cell_type": "code",
   "execution_count": null,
   "id": "dcc03493",
   "metadata": {},
   "outputs": [],
   "source": []
  },
  {
   "cell_type": "code",
   "execution_count": null,
   "id": "83b40ca3",
   "metadata": {},
   "outputs": [],
   "source": []
  }
 ],
 "metadata": {
  "kernelspec": {
   "display_name": "Python 3 (ipykernel)",
   "language": "python",
   "name": "python3"
  },
  "language_info": {
   "codemirror_mode": {
    "name": "ipython",
    "version": 3
   },
   "file_extension": ".py",
   "mimetype": "text/x-python",
   "name": "python",
   "nbconvert_exporter": "python",
   "pygments_lexer": "ipython3",
   "version": "3.7.7"
  },
  "varInspector": {
   "cols": {
    "lenName": 16,
    "lenType": 16,
    "lenVar": 40
   },
   "kernels_config": {
    "python": {
     "delete_cmd_postfix": "",
     "delete_cmd_prefix": "del ",
     "library": "var_list.py",
     "varRefreshCmd": "print(var_dic_list())"
    },
    "r": {
     "delete_cmd_postfix": ") ",
     "delete_cmd_prefix": "rm(",
     "library": "var_list.r",
     "varRefreshCmd": "cat(var_dic_list()) "
    }
   },
   "position": {
    "height": "361.844px",
    "left": "1580px",
    "right": "20px",
    "top": "120px",
    "width": "320px"
   },
   "types_to_exclude": [
    "module",
    "function",
    "builtin_function_or_method",
    "instance",
    "_Feature"
   ],
   "window_display": false
  }
 },
 "nbformat": 4,
 "nbformat_minor": 5
}
